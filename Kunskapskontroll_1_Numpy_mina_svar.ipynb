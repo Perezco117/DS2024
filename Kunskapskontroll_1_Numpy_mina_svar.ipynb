{
 "cells": [
  {
   "cell_type": "markdown",
   "id": "dacf74e6",
   "metadata": {},
   "source": [
    "# NumPy"
   ]
  },
  {
   "cell_type": "markdown",
   "id": "01b2bf34",
   "metadata": {},
   "source": [
    "Read the links: https://numpy.org/doc/stable/user/quickstart.html  and https://numpy.org/doc/stable/user/basics.broadcasting.html  before solving the exercises. "
   ]
  },
  {
   "cell_type": "code",
   "execution_count": 74,
   "id": "1f79e4a6",
   "metadata": {},
   "outputs": [],
   "source": [
    "import numpy as np"
   ]
  },
  {
   "cell_type": "markdown",
   "id": "7dae6889",
   "metadata": {},
   "source": [
    "### Print out the dimension (number of axes), shape, size and the datatype of the matrix A."
   ]
  },
  {
   "cell_type": "code",
   "execution_count": 75,
   "id": "7b3678cd",
   "metadata": {},
   "outputs": [],
   "source": [
    "A = np.arange(1, 16).reshape(3,5)"
   ]
  },
  {
   "cell_type": "code",
   "execution_count": 76,
   "id": "31d39235",
   "metadata": {},
   "outputs": [
    {
     "name": "stdout",
     "output_type": "stream",
     "text": [
      "2\n",
      "(3, 5)\n",
      "15\n",
      "int32\n"
     ]
    }
   ],
   "source": [
    "print(A.ndim)\n",
    "print(A.shape)\n",
    "print(A.size)\n",
    "print(A.dtype)"
   ]
  },
  {
   "cell_type": "markdown",
   "id": "e56d2a96",
   "metadata": {},
   "source": [
    "### Do the following computations on the matrices B and C: \n",
    "* Elementwise subtraction. \n",
    "* Elementwise multiplication. \n",
    "* Matrix multiplication (by default you should use the @ operator)."
   ]
  },
  {
   "cell_type": "code",
   "execution_count": 77,
   "id": "a7053fbb",
   "metadata": {},
   "outputs": [
    {
     "name": "stdout",
     "output_type": "stream",
     "text": [
      "[[1 2 3]\n",
      " [4 5 6]\n",
      " [7 8 9]]\n",
      "\n",
      "[[2. 2. 2.]\n",
      " [2. 2. 2.]\n",
      " [2. 2. 2.]]\n"
     ]
    }
   ],
   "source": [
    "B = np.arange(1, 10).reshape(3, 3)\n",
    "C = np.ones((3, 3))*2\n",
    "\n",
    "print(B)\n",
    "print()\n",
    "print(C)"
   ]
  },
  {
   "cell_type": "code",
   "execution_count": 78,
   "id": "3cd794ae",
   "metadata": {},
   "outputs": [
    {
     "name": "stdout",
     "output_type": "stream",
     "text": [
      "[[-1.  0.  1.]\n",
      " [ 2.  3.  4.]\n",
      " [ 5.  6.  7.]]\n",
      "\n",
      "[[ 2.  4.  6.]\n",
      " [ 8. 10. 12.]\n",
      " [14. 16. 18.]]\n",
      "\n",
      "[[12. 12. 12.]\n",
      " [30. 30. 30.]\n",
      " [48. 48. 48.]]\n"
     ]
    }
   ],
   "source": [
    "print(B-C)\n",
    "print()\n",
    "print(B*C)\n",
    "print()\n",
    "print(B@C)"
   ]
  },
  {
   "cell_type": "markdown",
   "id": "96030d53",
   "metadata": {},
   "source": [
    "### Do the following calculations on the matrix:\n",
    "* Exponentiate each number elementwise (use the np.exp function).\n",
    "\n",
    "* Calculate the minimum value in the whole matrix. \n",
    "* Calculcate the minimum value in each row. \n",
    "* Calculcate the minimum value in each column. \n",
    "\n",
    "\n",
    "* Find the index value for the minimum value in the whole matrix (hint: use np.argmin).\n",
    "* Find the index value for the minimum value in each row (hint: use np.argmin).\n",
    "\n",
    "\n",
    "* Calculate the sum for all elements.\n",
    "* Calculate the mean for each column. \n",
    "* Calculate the median for each column. "
   ]
  },
  {
   "cell_type": "code",
   "execution_count": 79,
   "id": "f8a9166b",
   "metadata": {},
   "outputs": [
    {
     "name": "stdout",
     "output_type": "stream",
     "text": [
      "[[1 2 3]\n",
      " [4 5 6]\n",
      " [7 8 9]]\n"
     ]
    }
   ],
   "source": [
    "B = np.arange(1, 10).reshape(3, 3)\n",
    "print(B)"
   ]
  },
  {
   "cell_type": "code",
   "execution_count": 80,
   "id": "f03f24f7",
   "metadata": {},
   "outputs": [
    {
     "name": "stdout",
     "output_type": "stream",
     "text": [
      "Exponentiate each number elementwise: [[2.71828183e+00 7.38905610e+00 2.00855369e+01]\n",
      " [5.45981500e+01 1.48413159e+02 4.03428793e+02]\n",
      " [1.09663316e+03 2.98095799e+03 8.10308393e+03]]\n",
      "\n",
      "Minimum value in the whole matrix: 1\n",
      "\n",
      "Minimum value in each row: [1 4 7]\n",
      "\n",
      "Minimum value of each column: [1 2 3]\n",
      "\n",
      "Index value of the minimum value in the whole matrix: 0\n",
      "\n",
      "Index value of the minimum value in each row: [0 0 0]\n",
      "\n",
      "Sum of all elements: 45\n",
      "\n",
      "Mean for each column: [4. 5. 6.]\n",
      "\n",
      "Median for each column: [4. 5. 6.]\n"
     ]
    }
   ],
   "source": [
    "print('Exponentiate each number elementwise:', np.exp(B[:]))\n",
    "print()\n",
    "\n",
    "print('Minimum value in the whole matrix:', np.min(B))\n",
    "print()\n",
    "\n",
    "print('Minimum value in each row:', B.min(axis = 1))\n",
    "print()\n",
    "\n",
    "print('Minimum value of each column:', B.min(axis = 0))\n",
    "print()\n",
    "\n",
    "print('Index value of the minimum value in the whole matrix:', np.argmin(B))\n",
    "print()\n",
    "\n",
    "print('Index value of the minimum value in each row:', B.argmin(axis = 1))\n",
    "print()\n",
    "\n",
    "print('Sum of all elements:', np.sum(B))\n",
    "print()\n",
    "\n",
    "print('Mean for each column:', B.mean(axis = 0) )\n",
    "print()\n",
    "\n",
    "print('Median for each column:', np.median(B, axis = 0))"
   ]
  },
  {
   "cell_type": "markdown",
   "id": "541eb7ba",
   "metadata": {},
   "source": [
    "### What does it mean when you provide fewer indices than axes when slicing? See example below."
   ]
  },
  {
   "cell_type": "code",
   "execution_count": 81,
   "id": "9c8abf56",
   "metadata": {},
   "outputs": [
    {
     "name": "stdout",
     "output_type": "stream",
     "text": [
      "[[ 1  2  3  4  5]\n",
      " [ 6  7  8  9 10]\n",
      " [11 12 13 14 15]]\n"
     ]
    }
   ],
   "source": [
    "print(A)"
   ]
  },
  {
   "cell_type": "code",
   "execution_count": 82,
   "id": "69415f7b",
   "metadata": {},
   "outputs": [
    {
     "data": {
      "text/plain": [
       "array([ 6,  7,  8,  9, 10])"
      ]
     },
     "execution_count": 82,
     "metadata": {},
     "output_type": "execute_result"
    }
   ],
   "source": [
    "A[1]"
   ]
  },
  {
   "cell_type": "markdown",
   "id": "6c53541b",
   "metadata": {},
   "source": [
    "**Answer:**\n",
    "\n",
    "When you provide fewer indices than axes, it will index the leftmost index.\n",
    "\n",
    "In the case of A, it has two dimensions. \n",
    "\n",
    "Therefore, when you slice with one index, it will return the leftmost value. In the case of A[1], it is row that is indexed.\n",
    "\n",
    "If it had three dimensions, it would be \"pages\" that is indexed.\n"
   ]
  },
  {
   "cell_type": "markdown",
   "id": "6652d0c9",
   "metadata": {},
   "source": [
    "### Iterating over multidimensional arrays is done with respect to the first axis, so in the example below we iterate trough the rows. If you would like to iterate through the array *elementwise*, how would you do that?"
   ]
  },
  {
   "cell_type": "code",
   "execution_count": 83,
   "id": "9459864f",
   "metadata": {},
   "outputs": [
    {
     "data": {
      "text/plain": [
       "array([[ 1,  2,  3,  4,  5],\n",
       "       [ 6,  7,  8,  9, 10],\n",
       "       [11, 12, 13, 14, 15]])"
      ]
     },
     "execution_count": 83,
     "metadata": {},
     "output_type": "execute_result"
    }
   ],
   "source": [
    "A"
   ]
  },
  {
   "cell_type": "code",
   "execution_count": 84,
   "id": "a671bb5a",
   "metadata": {},
   "outputs": [
    {
     "name": "stdout",
     "output_type": "stream",
     "text": [
      "[1 2 3 4 5]\n",
      "[ 6  7  8  9 10]\n",
      "[11 12 13 14 15]\n"
     ]
    }
   ],
   "source": [
    "for i in A:\n",
    "    print(i)"
   ]
  },
  {
   "cell_type": "code",
   "execution_count": 85,
   "id": "f4e443a0",
   "metadata": {},
   "outputs": [
    {
     "name": "stdout",
     "output_type": "stream",
     "text": [
      "1\n",
      "2\n",
      "3\n",
      "4\n",
      "5\n",
      "6\n",
      "7\n",
      "8\n",
      "9\n",
      "10\n",
      "11\n",
      "12\n",
      "13\n",
      "14\n",
      "15\n"
     ]
    }
   ],
   "source": [
    "for element in A.flat: #This iterates over each element in the 2D-array.\n",
    "    print(element)"
   ]
  },
  {
   "cell_type": "markdown",
   "id": "608a2583",
   "metadata": {},
   "source": [
    "### Explain what the code below does. More specifically, b has three axes - what does this mean? \n",
    "\n",
    "\"a\" is referencing a created array with digits ranging from 0-29.\n",
    "\"b\" is referencing a reshaped array of \"a\" with three axes, turns it from a 1D array to a 3D array with the same numbers.\n",
    "Where as \"a\" only had it's numbers aligned on a line, \"b\" has the same numbers in rows, columns and depth(splitting it into two matrices of columns and rows.)"
   ]
  },
  {
   "cell_type": "code",
   "execution_count": 86,
   "id": "f8f9b26f",
   "metadata": {},
   "outputs": [
    {
     "name": "stdout",
     "output_type": "stream",
     "text": [
      "[ 0  1  2  3  4  5  6  7  8  9 10 11 12 13 14 15 16 17 18 19 20 21 22 23\n",
      " 24 25 26 27 28 29]\n",
      "\n",
      "[[[ 0  1  2  3  4]\n",
      "  [ 5  6  7  8  9]\n",
      "  [10 11 12 13 14]]\n",
      "\n",
      " [[15 16 17 18 19]\n",
      "  [20 21 22 23 24]\n",
      "  [25 26 27 28 29]]]\n"
     ]
    }
   ],
   "source": [
    "a = np.arange(30) #a is an array with integers from 0 through to 29.\n",
    "b = a.reshape((2, 3, -1)) #b is referencing a reshaped 'a', from a 1D array to a 3D array with dimensions 2x3x5.\n",
    "#Why 5? Because -1 is telling the interpreter that I want it to fill out the last argument so the shape works.\n",
    "print(a)\n",
    "print()\n",
    "\n",
    "print(b)"
   ]
  },
  {
   "cell_type": "markdown",
   "id": "ab5933d5",
   "metadata": {},
   "source": [
    "### Broadcasting\n",
    "**Read the following link about broadcasting: https://numpy.org/doc/stable/user/basics.broadcasting.html#basics-broadcasting**"
   ]
  },
  {
   "cell_type": "markdown",
   "id": "039805ba",
   "metadata": {},
   "source": [
    "# Remark on Broadcasting when doing Linear Algebra calculations in Python. "
   ]
  },
  {
   "cell_type": "markdown",
   "id": "c4bcc147",
   "metadata": {},
   "source": [
    "### From the mathematical rules of matrix addition, the operation below (m1 + m2) does not make sense. The reason is that matrix addition requires two matrices of the same size. In Python however, it works due to broadcasting rules in NumPy. So you must be careful when doing Linear Algebra calculations in Python since they do not follow the \"mathematical rules\". This can however easily be handled by doing some simple programming, for example validating that two matrices have the same shape is easy if you for instance want to add two matrices. "
   ]
  },
  {
   "cell_type": "code",
   "execution_count": 87,
   "id": "1fd46778",
   "metadata": {},
   "outputs": [
    {
     "name": "stdout",
     "output_type": "stream",
     "text": [
      "[[2 3]\n",
      " [4 5]]\n"
     ]
    }
   ],
   "source": [
    "m1 = np.array([[1, 2], [3, 4]])\n",
    "m2 = np.array([1, 1])\n",
    "print(m1 + m2)"
   ]
  },
  {
   "cell_type": "markdown",
   "id": "047d6576",
   "metadata": {},
   "source": [
    "### The example below would also not be allowed if following the \"mathematical rules\" in Linear Algebra. But it works due to broadcasting in NumPy. "
   ]
  },
  {
   "cell_type": "code",
   "execution_count": 88,
   "id": "5e6ef2e4",
   "metadata": {},
   "outputs": [
    {
     "name": "stdout",
     "output_type": "stream",
     "text": [
      "[2 3 4]\n"
     ]
    }
   ],
   "source": [
    "v1 = np.array([1, 2, 3])\n",
    "print(v1 + 1)\n"
   ]
  },
  {
   "cell_type": "code",
   "execution_count": 89,
   "id": "e2cbae26",
   "metadata": {},
   "outputs": [
    {
     "name": "stdout",
     "output_type": "stream",
     "text": [
      "[[1 2]\n",
      " [3 4]]\n",
      "[2 2]\n"
     ]
    }
   ],
   "source": [
    "A = np.arange(1, 5).reshape(2,2)\n",
    "print(A)\n",
    "b = np.array([2, 2])\n",
    "print(b)"
   ]
  },
  {
   "cell_type": "code",
   "execution_count": 90,
   "id": "6af20a1a",
   "metadata": {},
   "outputs": [
    {
     "name": "stdout",
     "output_type": "stream",
     "text": [
      "[[3 4]\n",
      " [5 6]] \n",
      "\"A + b\" works because of broadcasting in Numpy, \n",
      "but is not allowed if following mathematical rules because the arrays have not the same size.\n",
      "4 <- size of array A. Size of array b -> 2\n",
      "\n",
      "[ 6 14] A@b works because of how matrix multiplication is defined. A has the same amount of\n",
      "columns as b has rows. In linear algebra, this is defined.\n"
     ]
    }
   ],
   "source": [
    "print(A + b, '\\n\"A + b\" works because of broadcasting in Numpy, \\nbut is not allowed if following mathematical rules because the arrays have not the same size.')\n",
    "print(np.size(A), '<- size of array A. Size of array b ->', np.size(b))\n",
    "print()\n",
    "print(A@b, 'A@b works because of how matrix multiplication is defined. A has the same amount of\\ncolumns as b has rows. In linear algebra, this is defined.')"
   ]
  },
  {
   "cell_type": "markdown",
   "id": "722fd5cd",
   "metadata": {},
   "source": [
    "# Vector- and matrix algebra Exercises"
   ]
  },
  {
   "cell_type": "markdown",
   "id": "b63a3081-d976-4d9f-bfd0-a63917e79f7d",
   "metadata": {},
   "source": [
    "**Now you are going to create a function that can be reused every time you add or multiply matrices. The function is created so that we do the addition and multiplication according to the rules of vector- and matrix algebra.**\n",
    "\n",
    "**Create a function \"add_mult_matrices\" that takes two matrices as input arguments (validate that the input are of the type numpy.ndarray by using the isinstance function), a third argument that is either 'add' or 'multiply' that specifies if you want to add or multiply the matrices (validate that the third argument is either 'add' or 'multiply'). When doing matrix addition, validate that the matrices have the same size. When doing matrix multiplication, validate that the sizes conform (i.e. number of columns in the first matrix is equal to the number of rows in the second matrix).**"
   ]
  },
  {
   "cell_type": "code",
   "execution_count": 91,
   "id": "3506f977-ac0a-473f-85bc-eec9f35dc498",
   "metadata": {},
   "outputs": [],
   "source": [
    "def add_mult_matrices(m_1, m_2, add_or_mult):\n",
    "    if not isinstance(m_1, np.ndarray) or not isinstance(m_2,np.ndarray):\n",
    "        return ValueError, 'Both inputs need to be of type np.ndarray.'\n",
    "    \n",
    "    if add_or_mult == 'add':\n",
    "            if m_1.shape == m_2.shape:\n",
    "                return m_1 + m_2\n",
    "            else:\n",
    "                return ValueError, 'Not defined.'                   \n",
    "    elif add_or_mult == 'multiply':\n",
    "            if m_1.shape[1] == m_2.shape[0]:\n",
    "                return m_1 @ m_2\n",
    "            else:\n",
    "                return ValueError, 'Matrice multiplication not defined.'\n",
    "    else:\n",
    "        return ValueError, \"Third input needs to be 'add' or 'multiply'. Everything else returns error.\"\n",
    "        \n",
    " "
   ]
  },
  {
   "cell_type": "markdown",
   "id": "8dad82d0-2359-4dff-8f5b-a57d3e34103c",
   "metadata": {},
   "source": [
    "### Solve all the exercises in chapter 10.1 in the book \"Matematik för yrkeshögskolan\". "
   ]
  },
  {
   "cell_type": "code",
   "execution_count": 92,
   "id": "89df88af-3668-4d98-a0a4-e6d92eea0f89",
   "metadata": {},
   "outputs": [
    {
     "name": "stdout",
     "output_type": "stream",
     "text": [
      "10.1.1\n",
      "[[4 3]] The shape of our array.\n",
      "\n",
      "(a) (1, 2)\n",
      "\n",
      "(b) [[20 15]]\n",
      "\n",
      "(c) [[12  9]]\n",
      "\n",
      "(d) [[32 24]]\n",
      "\n",
      "(e) [[32 24]]\n",
      "\n",
      "(f) [[12  9]]\n",
      "\n",
      "(g) (2, 1)\n",
      "\n",
      "(h) (<class 'ValueError'>, 'Not defined.')\n",
      "\n",
      "(i) 5.0\n"
     ]
    }
   ],
   "source": [
    "print('10.1.1')\n",
    "vektor_1 = np.array([4,3])\n",
    "v1 = vektor_1.reshape((1,2))\n",
    "\n",
    "print(v1, \"The shape of our array.\")\n",
    "print('\\n(a)', np.shape(v1))\n",
    "print('\\n(b)', 5*v1)\n",
    "print('\\n(c)', 3*v1)\n",
    "print('\\n(d)', add_mult_matrices((5*v1),(3*v1),'add'))\n",
    "print('\\n(e)', 8*v1)\n",
    "print('\\n(f)', add_mult_matrices((4*v1), -v1, 'add'))\n",
    "print('\\n(g)', np.shape(np.transpose(v1)))\n",
    "print('\\n(h)', add_mult_matrices(v1, np.transpose(v1), 'add'))\n",
    "print('\\n(i)', np.linalg.norm(v1))"
   ]
  },
  {
   "cell_type": "code",
   "execution_count": 93,
   "id": "e9a08a3a",
   "metadata": {},
   "outputs": [
    {
     "name": "stdout",
     "output_type": "stream",
     "text": [
      "10.1.2\n",
      "[[ 3]\n",
      " [ 7]\n",
      " [ 0]\n",
      " [11]] The shape of our array.\n",
      "\n",
      "(a) (4, 1)\n",
      "\n",
      "(b) [[ 6]\n",
      " [14]\n",
      " [ 0]\n",
      " [22]]\n",
      "\n",
      "(c) [[21]\n",
      " [49]\n",
      " [ 0]\n",
      " [77]]\n",
      "\n",
      "(d) [[ 6]\n",
      " [14]\n",
      " [ 0]\n",
      " [22]]\n",
      "\n",
      "(e) (1, 4)\n",
      "\n",
      "(f) 13.379088160259652\n"
     ]
    }
   ],
   "source": [
    "print('10.1.2')\n",
    "vektor_2 = np.array([3, 7, 0, 11])\n",
    "v2 = vektor_2.reshape((4,1))\n",
    "\n",
    "print(v2, \"The shape of our array.\")\n",
    "print('\\n(a)', np.shape(v2))\n",
    "print('\\n(b)', 2*v2)\n",
    "print('\\n(c)', add_mult_matrices((5*v2), (2*v2), 'add'))\n",
    "print('\\n(d)', add_mult_matrices((4*v2),  -(2*v2), 'add'))\n",
    "print('\\n(e)', np.shape(np.transpose(v2)))\n",
    "print('\\n(f)', np.linalg.norm(v2))"
   ]
  },
  {
   "cell_type": "code",
   "execution_count": 94,
   "id": "3afb26d1",
   "metadata": {},
   "outputs": [
    {
     "name": "stdout",
     "output_type": "stream",
     "text": [
      "10.1.3\n",
      "[[4 3 1 5]] The shape of our first array.\n",
      "[[2 3 1 1]] The shape of our second array.\n",
      "\n",
      "(a) 7.14142842854285\n",
      "\n",
      "(b) 4.47213595499958\n"
     ]
    }
   ],
   "source": [
    "print('10.1.3')\n",
    "ve_1 = np.array([4,3,1,5])\n",
    "ve1 = ve_1.reshape((1,4))\n",
    "ve_2 = np.array([2,3,1,1])\n",
    "ve2 = ve_2.reshape((1,4))\n",
    "\n",
    "print(ve1, \"The shape of our first array.\")\n",
    "print(ve2, \"The shape of our second array.\")\n",
    "print('\\n(a)', np.linalg.norm(ve1))\n",
    "print('\\n(b)', np.linalg.norm(add_mult_matrices(ve1, -ve2, 'add')))"
   ]
  },
  {
   "cell_type": "markdown",
   "id": "75c98984-1f88-4df1-b850-d2466de444a5",
   "metadata": {},
   "source": [
    "### Solve all the exercises, except 10.2.4, in chapter 10.2 in the book \"Matematik för yrkeshögskolan\". "
   ]
  },
  {
   "cell_type": "code",
   "execution_count": 95,
   "id": "65371610-16e1-48b2-b7fb-65e49002608a",
   "metadata": {},
   "outputs": [
    {
     "name": "stdout",
     "output_type": "stream",
     "text": [
      "10.2.1\n",
      "\n",
      "(A)\n",
      " [[ 4  2 -2]\n",
      " [ 2 -2  2]]\n",
      "\n",
      "(B)\n",
      " [[ 0 -4  3]\n",
      " [ 0 -2 -4]]\n",
      "\n",
      "(C)\n",
      " (<class 'ValueError'>, 'Not defined.')\n",
      "\n",
      "(D)\n",
      " [[3 2]\n",
      " [2 3]]\n",
      "\n",
      "(E)\n",
      " [[ 9 12]\n",
      " [12  9]]\n",
      "\n",
      "(F)\n",
      " [[-4 -4]\n",
      " [-4 -4]]\n",
      "\n",
      "(G)\n",
      " (<class 'ValueError'>, 'Not defined.')\n"
     ]
    }
   ],
   "source": [
    "print('10.2.1')\n",
    "matrix_A = np.array([2,1,-1,1,-1,1])\n",
    "matrix_B = np.array([4,-2,1,2,-4,-2])\n",
    "matrix_C = np.array([1,2,2,1])\n",
    "matrix_D = np.array([3,4,4,3])\n",
    "matrix_E = np.array([1,2])\n",
    "matrix_I = np.array([1,0,0,1])\n",
    "mA = matrix_A.reshape((2,3))\n",
    "mB = matrix_B.reshape((2,3))\n",
    "mC = matrix_C.reshape((2,2))\n",
    "mD = matrix_D.reshape((2,2))\n",
    "mE = matrix_E.reshape((1,2))\n",
    "mI = matrix_I.reshape((2,2))\n",
    "\n",
    "print('\\n(A)\\n', np.dot(2,mA))\n",
    "print('\\n(B)\\n', add_mult_matrices((mB), -(2*mA), 'add'))\n",
    "print('\\n(C)\\n', add_mult_matrices((3*mC), -(2*mE), 'add'))\n",
    "print('\\n(D)\\n', add_mult_matrices((2*mD), -(3*mC), 'add'))\n",
    "print('\\n(E)\\n', add_mult_matrices((np.transpose(mD)), (2*mD), 'add'))\n",
    "print('\\n(F)\\n', add_mult_matrices((2*(np.transpose(mC))), -(2*(np.transpose(mD))), 'add'))\n",
    "print('\\n(G)\\n', add_mult_matrices((np.transpose(mA)), -mB, 'add'))\n"
   ]
  },
  {
   "cell_type": "code",
   "execution_count": 96,
   "id": "b1631f66",
   "metadata": {},
   "outputs": [
    {
     "name": "stdout",
     "output_type": "stream",
     "text": [
      "10.2.1\n",
      "\n",
      "(H)\n",
      " (<class 'ValueError'>, 'Matrice multiplication not defined.')\n",
      "\n",
      "(I)\n",
      " [[11 10]\n",
      " [10 11]]\n",
      "\n",
      "(J)\n",
      " [[  8 -10  -3]\n",
      " [ 10  -8   0]]\n",
      "\n",
      "(K)\n",
      " [[1 2]\n",
      " [2 1]]\n",
      "\n",
      "(L)\n",
      " [[5 2]\n",
      " [7 4]]\n"
     ]
    }
   ],
   "source": [
    "print('10.2.1')\n",
    "print('\\n(H)\\n', add_mult_matrices(mA, mC, 'multiply'))\n",
    "print('\\n(I)\\n', add_mult_matrices(mC, mD, 'multiply'))\n",
    "print('\\n(J)\\n', add_mult_matrices(mC, mB, 'multiply'))\n",
    "print('\\n(K)\\n', add_mult_matrices(mC, mI, 'multiply'))\n",
    "print('\\n(L)\\n', add_mult_matrices(mA, (np.transpose(mB)), 'multiply'))"
   ]
  },
  {
   "cell_type": "code",
   "execution_count": 97,
   "id": "37f77cae",
   "metadata": {},
   "outputs": [
    {
     "name": "stdout",
     "output_type": "stream",
     "text": [
      "10.2.2\n",
      "Calculate A*A^T\n",
      " [[29 26]\n",
      " [26 42]]\n"
     ]
    }
   ],
   "source": [
    "print('10.2.2')\n",
    "Aarray = np.array([2,3,4,5,4,1])\n",
    "AA = Aarray.reshape((2,3)) #Döper A från boken till AA här i koden.\n",
    "print('Calculate A*A^T\\n', add_mult_matrices(AA,(np.transpose(AA)), 'multiply'))"
   ]
  },
  {
   "cell_type": "code",
   "execution_count": 98,
   "id": "91aadc89",
   "metadata": {},
   "outputs": [
    {
     "name": "stdout",
     "output_type": "stream",
     "text": [
      "10.2.3\n",
      "\n",
      "\n",
      "AB =\n",
      " [[ 4  7]\n",
      " [ 8 14]]\n",
      "\n",
      "AC =\n",
      " [[ 4  7]\n",
      " [ 8 14]]\n",
      "\n",
      "B=\n",
      " [[2 1]\n",
      " [1 3]]\n",
      "\n",
      "C=\n",
      " [[4 3]\n",
      " [0 2]]\n",
      "\n",
      "As can be observed above, \"AB = AC\", but \"B != C\".\n"
     ]
    }
   ],
   "source": [
    "print('10.2.3\\n')\n",
    "ver_A = np.array([1,2,2,4])\n",
    "ver_B = np.array([2,1,1,3])\n",
    "ver_C = np.array([4,3,0,2])\n",
    "ver_a = ver_A.reshape(2,2)\n",
    "ver_b = ver_B.reshape(2,2)\n",
    "ver_c = ver_C.reshape(2,2)\n",
    "print('\\nAB =\\n', add_mult_matrices(ver_a, ver_b, 'multiply'))\n",
    "print('\\nAC =\\n', add_mult_matrices(ver_a,ver_c, 'multiply'))\n",
    "print('\\nB=\\n', ver_b)\n",
    "print('\\nC=\\n', ver_c)\n",
    "print('\\nAs can be observed above, \"AB = AC\", but \"B != C\".')"
   ]
  },
  {
   "cell_type": "code",
   "execution_count": 99,
   "id": "e8f339fb",
   "metadata": {},
   "outputs": [
    {
     "name": "stdout",
     "output_type": "stream",
     "text": [
      "10.2.4\n",
      "\n",
      "Ax = B. Har substituerat x1, x2, x3, med siffrorna för jag vet inte hur man gör med variabel.\n",
      "[[3 2 4]\n",
      " [2 3 8]\n",
      " [4 1 3]\n",
      " [7 1 5]] \n",
      "*\n",
      " [[1]\n",
      " [2]\n",
      " [3]] \n",
      "=\n",
      " [[ 7]\n",
      " [ 4]\n",
      " [11]\n",
      " [ 9]]\n"
     ]
    }
   ],
   "source": [
    "print('10.2.4\\n')\n",
    "lin_a = np.array([3,2,4,2,3,8,4,1,3,7,1,5])\n",
    "lin_x = np.array([1,2,3])\n",
    "lin_b = np.array([7,4,11,9])\n",
    "LIN_a = lin_a.reshape(4,3)\n",
    "LIN_x = lin_x.reshape(3,1)\n",
    "LIN_b = lin_b.reshape(4,1)\n",
    "print('Ax = B. Har substituerat x1, x2, x3, med siffrorna för jag vet inte hur man gör med variabel.')\n",
    "print(LIN_a, '\\n*\\n', LIN_x, '\\n=\\n', LIN_b)"
   ]
  },
  {
   "cell_type": "markdown",
   "id": "6a4a524f",
   "metadata": {},
   "source": [
    "### Copies and Views\n",
    "Read the following link: https://numpy.org/doc/stable/user/basics.copies.html"
   ]
  },
  {
   "cell_type": "markdown",
   "id": "6cbbeaf7",
   "metadata": {},
   "source": [
    "**Basic indexing creates a view, How can you check if v1 and v2 is a view or copy? If you change the last element in v2 to 123, will the last element in v1 be changed? Why?**"
   ]
  },
  {
   "cell_type": "code",
   "execution_count": 100,
   "id": "5b9ef4df",
   "metadata": {},
   "outputs": [
    {
     "name": "stdout",
     "output_type": "stream",
     "text": [
      "[0 1 2 3]\n",
      "[2 3]\n",
      "[2 3]\n"
     ]
    }
   ],
   "source": [
    "v1 = np.arange(4)\n",
    "v2 = v1[-2:]\n",
    "print(v1)\n",
    "print(v2)\n",
    "v3 = v2.copy()\n",
    "print(v3)"
   ]
  },
  {
   "cell_type": "code",
   "execution_count": 101,
   "id": "d2440489",
   "metadata": {},
   "outputs": [
    {
     "name": "stdout",
     "output_type": "stream",
     "text": [
      "None\n",
      "[0 1 2 3]\n",
      "None\n"
     ]
    }
   ],
   "source": [
    "# The base attribute of a view returns the original array while it returns None for a copy.\n",
    "print(v1.base)\n",
    "print(v2.base)\n",
    "print(v3.base)"
   ]
  },
  {
   "cell_type": "code",
   "execution_count": 102,
   "id": "c8752807",
   "metadata": {},
   "outputs": [
    {
     "name": "stdout",
     "output_type": "stream",
     "text": [
      "[  0   1   2 123]\n",
      "[  2 123]\n"
     ]
    }
   ],
   "source": [
    "# The last element in v1 will be changed aswell since v2 is a view, meaning they share the same data buffer.\n",
    "v2[-1] = 123\n",
    "print(v1)\n",
    "print(v2)"
   ]
  },
  {
   "cell_type": "code",
   "execution_count": 103,
   "id": "3dd68221",
   "metadata": {},
   "outputs": [],
   "source": [
    "v3[-1] = 232323"
   ]
  },
  {
   "cell_type": "code",
   "execution_count": 104,
   "id": "0165a27a",
   "metadata": {},
   "outputs": [
    {
     "name": "stdout",
     "output_type": "stream",
     "text": [
      "[  0   1   2 123] \n",
      " [  2 123] \n",
      " [     2 232323]\n"
     ]
    }
   ],
   "source": [
    "print(v1, '\\n', v2, '\\n', v3)"
   ]
  },
  {
   "cell_type": "markdown",
   "id": "c5e14734",
   "metadata": {},
   "source": [
    "# Summary of under \"Copies and Views\" above:\n",
    "\n",
    "As seen in examples above. A view of v1[-2:] is simply referencing to v1 but starting from last 2 indexes to the end. Any changes\n",
    "\n",
    "on v2 are on v1 because they are using the same data, just that v2 is showing parts of it.\n",
    "\n",
    "v3 on the other hand, makes a copy of v2 and changes made to this copy will remain with this copy and not affect v2, because it is now\n",
    "\n",
    "it's own set of data."
   ]
  },
  {
   "cell_type": "markdown",
   "id": "0a453261",
   "metadata": {},
   "source": []
  }
 ],
 "metadata": {
  "kernelspec": {
   "display_name": "base",
   "language": "python",
   "name": "python3"
  },
  "language_info": {
   "codemirror_mode": {
    "name": "ipython",
    "version": 3
   },
   "file_extension": ".py",
   "mimetype": "text/x-python",
   "name": "python",
   "nbconvert_exporter": "python",
   "pygments_lexer": "ipython3",
   "version": "3.12.4"
  }
 },
 "nbformat": 4,
 "nbformat_minor": 5
}
